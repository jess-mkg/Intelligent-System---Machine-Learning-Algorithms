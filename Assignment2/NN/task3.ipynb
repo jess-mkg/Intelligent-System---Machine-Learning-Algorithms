{
 "cells": [
  {
   "cell_type": "code",
   "execution_count": 1,
   "metadata": {},
   "outputs": [],
   "source": [
    "import sys\n",
    "sys.path.append('/Users/Jessica/Desktop/Coding/School/2802ICT/Assignment2')\n",
    "from imports import *"
   ]
  },
  {
   "cell_type": "code",
   "execution_count": 2,
   "metadata": {},
   "outputs": [],
   "source": [
    "\n",
    "class NN:\n",
    "\n",
    "    def __init__(self):\n",
    "        self.dt = 0\n",
    "\n",
    "    def arrange_data(self, train_file, test_file):\n",
    "        \n",
    "        train_set = self.open_data(train_file)\n",
    "        test_set = self.open_data(test_file)\n",
    "\n",
    "        print(train_set.head())\n",
    "\n",
    "    \n",
    "    def open_data(self, file):\n",
    "        data_set = pd.read_csv(file)\n",
    "        return data_set\n",
    "\n",
    "    def sigmoid(z):\n",
    "        return 1.0 / (1.0 + np.exp(-z))\n",
    "\n",
    "    def driver(self):\n",
    "        start = 0 "
   ]
  },
  {
   "cell_type": "code",
   "execution_count": 3,
   "metadata": {},
   "outputs": [
    {
     "name": "stdout",
     "output_type": "stream",
     "text": [
      "   label  pixel1  pixel2  pixel3  pixel4  pixel5  pixel6  pixel7  pixel8  \\\n",
      "0      2       0       0       0       0       0       0       0       0   \n",
      "1      9       0       0       0       0       0       0       0       0   \n",
      "2      6       0       0       0       0       0       0       0       5   \n",
      "3      0       0       0       0       1       2       0       0       0   \n",
      "4      3       0       0       0       0       0       0       0       0   \n",
      "\n",
      "   pixel9  ...  pixel775  pixel776  pixel777  pixel778  pixel779  pixel780  \\\n",
      "0       0  ...         0         0         0         0         0         0   \n",
      "1       0  ...         0         0         0         0         0         0   \n",
      "2       0  ...         0         0         0        30        43         0   \n",
      "3       0  ...         3         0         0         0         0         1   \n",
      "4       0  ...         0         0         0         0         0         0   \n",
      "\n",
      "   pixel781  pixel782  pixel783  pixel784  \n",
      "0         0         0         0         0  \n",
      "1         0         0         0         0  \n",
      "2         0         0         0         0  \n",
      "3         0         0         0         0  \n",
      "4         0         0         0         0  \n",
      "\n",
      "[5 rows x 785 columns]\n"
     ]
    }
   ],
   "source": [
    "\n",
    "nn = NN()\n",
    "nn.arrange_data(\"fashion-mnist_train.csv.gz\", \"fashion-mnist_test.csv.gz\")\n",
    "\n",
    "\n",
    "####################### USER SETUP AREA #######################\n",
    "    \n",
    "N_inp = 0\n",
    "N_hidden = 0\n",
    "N_out = 0    \n",
    "    \n",
    "####################### END OF USER SETUP #######################\n",
    "\n",
    "\n"
   ]
  }
 ],
 "metadata": {
  "interpreter": {
   "hash": "de8ad9456243b6960082ed76502daf77a564024d303d074cae540dad91fb49fb"
  },
  "kernelspec": {
   "display_name": "Python 3.8.5 ('base')",
   "language": "python",
   "name": "python3"
  },
  "language_info": {
   "codemirror_mode": {
    "name": "ipython",
    "version": 3
   },
   "file_extension": ".py",
   "mimetype": "text/x-python",
   "name": "python",
   "nbconvert_exporter": "python",
   "pygments_lexer": "ipython3",
   "version": "3.8.5"
  },
  "orig_nbformat": 4
 },
 "nbformat": 4,
 "nbformat_minor": 2
}
