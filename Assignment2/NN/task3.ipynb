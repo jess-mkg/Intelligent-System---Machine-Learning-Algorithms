{
 "cells": [
  {
   "cell_type": "code",
   "execution_count": 143,
   "metadata": {},
   "outputs": [],
   "source": [
    "import sys\n",
    "sys.path.append('/Users/Jessica/Desktop/Coding/School/2802ICT/Assignment2')\n",
    "from imports import *"
   ]
  },
  {
   "cell_type": "code",
   "execution_count": 144,
   "metadata": {},
   "outputs": [],
   "source": [
    "\n",
    "class NN:\n",
    "\n",
    "    def __init__(self, n_input = 784, n_hidden = 30, n_out = 10, epoch = 30, mini_b = 20, l_rate = 3):\n",
    "        self.feature_train = []\n",
    "        self.feature_test = []\n",
    "        self.target_train = []\n",
    "        self.target_test = []\n",
    "\n",
    "        self.N_input = n_input\n",
    "        self.N_hidden = n_hidden\n",
    "        self.N_out = n_out\n",
    "        \n",
    "        self.epoch = epoch \n",
    "        self.minibatch = mini_b\n",
    "        self.l_rate = l_rate\n",
    "\n",
    "\n",
    "    def arrange_data(self, train_file, test_file):\n",
    "        \n",
    "        train_set = self.open_data(train_file)\n",
    "        test_set = self.open_data(test_file)\n",
    "\n",
    "        self.target_train = train_set[\"label\"]\n",
    "        df = pd.DataFrame(train_set)\n",
    "        self.feature_train = df.drop('label', axis=1)\n",
    "        \n",
    "        self.target_test = test_set[\"label\"]\n",
    "        df = pd.DataFrame(test_set)\n",
    "        self.feature_test = df.drop('label', axis=1)\n",
    "    \n",
    "    def open_data(self, file):\n",
    "        data_set = pd.read_csv(file)\n",
    "        return data_set\n",
    "\n",
    "    def sigmoid(z):\n",
    "        return 1.0 / (1.0 + np.exp(-z))\n",
    "\n",
    "    def driver(self):\n",
    "        start = 0 "
   ]
  },
  {
   "cell_type": "code",
   "execution_count": 145,
   "metadata": {},
   "outputs": [
    {
     "name": "stdout",
     "output_type": "stream",
     "text": [
      "5\n"
     ]
    }
   ],
   "source": [
    "\n",
    "####################### USER SETUP AREA ####################### \n",
    "\n",
    "n_input = 784\n",
    "n_hidden = 30\n",
    "n_out = 10\n",
    "epoch = 30\n",
    "mini_b = 20\n",
    "l_rate = 3\n",
    "    \n",
    "####################### END OF USER SETUP #######################\n",
    "\n",
    "nn = NN(n_input, n_hidden, n_out, epoch, mini_b, l_rate)\n",
    "nn.arrange_data(\"fashion-mnist_train.csv.gz\", \"fashion-mnist_test.csv.gz\")\n"
   ]
  }
 ],
 "metadata": {
  "interpreter": {
   "hash": "de8ad9456243b6960082ed76502daf77a564024d303d074cae540dad91fb49fb"
  },
  "kernelspec": {
   "display_name": "Python 3.8.5 ('base')",
   "language": "python",
   "name": "python3"
  },
  "language_info": {
   "codemirror_mode": {
    "name": "ipython",
    "version": 3
   },
   "file_extension": ".py",
   "mimetype": "text/x-python",
   "name": "python",
   "nbconvert_exporter": "python",
   "pygments_lexer": "ipython3",
   "version": "3.8.5"
  },
  "orig_nbformat": 4
 },
 "nbformat": 4,
 "nbformat_minor": 2
}
